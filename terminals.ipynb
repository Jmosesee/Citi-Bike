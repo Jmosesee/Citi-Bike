{
 "cells": [
  {
   "cell_type": "code",
   "execution_count": 1,
   "metadata": {},
   "outputs": [],
   "source": [
    "import glob\n",
    "import pandas as pd"
   ]
  },
  {
   "cell_type": "code",
   "execution_count": 3,
   "metadata": {},
   "outputs": [],
   "source": [
    "filenames = glob.glob('C:\\\\Users\\\\jmose\\\\OneDrive\\\\Documents\\\\Python Scripts\\\\Citibike\\\\2016\\\\*.csv')"
   ]
  },
  {
   "cell_type": "code",
   "execution_count": 4,
   "metadata": {},
   "outputs": [
    {
     "data": {
      "text/plain": [
       "['C:\\\\Users\\\\jmose\\\\OneDrive\\\\Documents\\\\Python Scripts\\\\Citibike\\\\2016\\\\JC-201604-citibike-tripdata.csv',\n",
       " 'C:\\\\Users\\\\jmose\\\\OneDrive\\\\Documents\\\\Python Scripts\\\\Citibike\\\\2016\\\\JC-201605-citibike-tripdata.csv',\n",
       " 'C:\\\\Users\\\\jmose\\\\OneDrive\\\\Documents\\\\Python Scripts\\\\Citibike\\\\2016\\\\JC-201606-citibike-tripdata.csv',\n",
       " 'C:\\\\Users\\\\jmose\\\\OneDrive\\\\Documents\\\\Python Scripts\\\\Citibike\\\\2016\\\\JC-201607-citibike-tripdata.csv',\n",
       " 'C:\\\\Users\\\\jmose\\\\OneDrive\\\\Documents\\\\Python Scripts\\\\Citibike\\\\2016\\\\JC-201608-citibike-tripdata.csv',\n",
       " 'C:\\\\Users\\\\jmose\\\\OneDrive\\\\Documents\\\\Python Scripts\\\\Citibike\\\\2016\\\\JC-201609-citibike-tripdata.csv',\n",
       " 'C:\\\\Users\\\\jmose\\\\OneDrive\\\\Documents\\\\Python Scripts\\\\Citibike\\\\2016\\\\JC-20161-citibike-tripdata.csv',\n",
       " 'C:\\\\Users\\\\jmose\\\\OneDrive\\\\Documents\\\\Python Scripts\\\\Citibike\\\\2016\\\\JC-201610-citibike-tripdata.csv',\n",
       " 'C:\\\\Users\\\\jmose\\\\OneDrive\\\\Documents\\\\Python Scripts\\\\Citibike\\\\2016\\\\JC-201611-citibike-tripdata.csv',\n",
       " 'C:\\\\Users\\\\jmose\\\\OneDrive\\\\Documents\\\\Python Scripts\\\\Citibike\\\\2016\\\\JC-201612-citibike-tripdata.csv',\n",
       " 'C:\\\\Users\\\\jmose\\\\OneDrive\\\\Documents\\\\Python Scripts\\\\Citibike\\\\2016\\\\JC-20162-citibike-tripdata.csv',\n",
       " 'C:\\\\Users\\\\jmose\\\\OneDrive\\\\Documents\\\\Python Scripts\\\\Citibike\\\\2016\\\\JC-20163-citibike-tripdata.csv']"
      ]
     },
     "execution_count": 4,
     "metadata": {},
     "output_type": "execute_result"
    }
   ],
   "source": [
    "filenames"
   ]
  },
  {
   "cell_type": "code",
   "execution_count": 5,
   "metadata": {},
   "outputs": [],
   "source": [
    "frames = [pd.read_csv(x) for x in filenames]"
   ]
  },
  {
   "cell_type": "code",
   "execution_count": 46,
   "metadata": {},
   "outputs": [],
   "source": [
    "manhattan = pd.read_csv('C:\\\\Users\\\\jmose\\\\OneDrive\\\\Documents\\\\Python Scripts\\\\Citibike\\\\201808-citibike-tripdata.csv')\n",
    "jc = pd.read_csv('C:\\\\Users\\\\jmose\\\\OneDrive\\\\Documents\\\\Python Scripts\\\\Citibike\\\\JC-201808-citibike-tripdata.csv')"
   ]
  },
  {
   "cell_type": "code",
   "execution_count": 47,
   "metadata": {},
   "outputs": [],
   "source": [
    "frames = [manhattan, jc]"
   ]
  },
  {
   "cell_type": "code",
   "execution_count": 48,
   "metadata": {},
   "outputs": [],
   "source": [
    "merged = pd.concat(frames, axis=0)"
   ]
  },
  {
   "cell_type": "code",
   "execution_count": 49,
   "metadata": {},
   "outputs": [],
   "source": [
    "merged2 = merged.copy(deep=True)"
   ]
  },
  {
   "cell_type": "code",
   "execution_count": 50,
   "metadata": {},
   "outputs": [],
   "source": [
    "merged['terminal type'] = \"Start\"\n",
    "merged2['terminal type'] = \"End\""
   ]
  },
  {
   "cell_type": "code",
   "execution_count": 51,
   "metadata": {},
   "outputs": [],
   "source": [
    "merged = merged.rename(columns={'starttime': 'time',\n",
    "                                'start station id': 'station id',\n",
    "                                'start station name': 'station name',\n",
    "                                'start station latitude': 'station latitude',\n",
    "                                'start station longitude': 'station longitude'\n",
    "                               })\n",
    "merged2 = merged2.rename(columns={'stoptime': 'time',\n",
    "                                'end station id': 'station id',\n",
    "                                'end station name': 'station name',\n",
    "                                'end station latitude': 'station latitude',\n",
    "                                'end station longitude': 'station longitude'\n",
    "                               })"
   ]
  },
  {
   "cell_type": "code",
   "execution_count": 52,
   "metadata": {},
   "outputs": [],
   "source": [
    "merged = merged[['terminal type', 'time', 'station id', 'station name', 'station latitude', 'station longitude']]\n",
    "merged2 = merged2[['terminal type', 'time', 'station id', 'station name', 'station latitude', 'station longitude']]"
   ]
  },
  {
   "cell_type": "code",
   "execution_count": 53,
   "metadata": {},
   "outputs": [
    {
     "data": {
      "text/html": [
       "<div>\n",
       "<style scoped>\n",
       "    .dataframe tbody tr th:only-of-type {\n",
       "        vertical-align: middle;\n",
       "    }\n",
       "\n",
       "    .dataframe tbody tr th {\n",
       "        vertical-align: top;\n",
       "    }\n",
       "\n",
       "    .dataframe thead th {\n",
       "        text-align: right;\n",
       "    }\n",
       "</style>\n",
       "<table border=\"1\" class=\"dataframe\">\n",
       "  <thead>\n",
       "    <tr style=\"text-align: right;\">\n",
       "      <th></th>\n",
       "      <th>terminal type</th>\n",
       "      <th>time</th>\n",
       "      <th>station id</th>\n",
       "      <th>station name</th>\n",
       "      <th>station latitude</th>\n",
       "      <th>station longitude</th>\n",
       "    </tr>\n",
       "  </thead>\n",
       "  <tbody>\n",
       "    <tr>\n",
       "      <th>0</th>\n",
       "      <td>Start</td>\n",
       "      <td>2018-08-01 00:00:07.3210</td>\n",
       "      <td>3162.0</td>\n",
       "      <td>W 78 St &amp; Broadway</td>\n",
       "      <td>40.783400</td>\n",
       "      <td>-73.980931</td>\n",
       "    </tr>\n",
       "    <tr>\n",
       "      <th>1</th>\n",
       "      <td>Start</td>\n",
       "      <td>2018-08-01 00:00:19.7480</td>\n",
       "      <td>3260.0</td>\n",
       "      <td>Mercer St &amp; Bleecker St</td>\n",
       "      <td>40.727064</td>\n",
       "      <td>-73.996621</td>\n",
       "    </tr>\n",
       "    <tr>\n",
       "      <th>2</th>\n",
       "      <td>Start</td>\n",
       "      <td>2018-08-01 00:00:21.1750</td>\n",
       "      <td>403.0</td>\n",
       "      <td>E 2 St &amp; 2 Ave</td>\n",
       "      <td>40.725029</td>\n",
       "      <td>-73.990697</td>\n",
       "    </tr>\n",
       "    <tr>\n",
       "      <th>3</th>\n",
       "      <td>Start</td>\n",
       "      <td>2018-08-01 00:00:26.4700</td>\n",
       "      <td>3637.0</td>\n",
       "      <td>Fulton St &amp; Waverly Ave</td>\n",
       "      <td>40.683239</td>\n",
       "      <td>-73.965996</td>\n",
       "    </tr>\n",
       "    <tr>\n",
       "      <th>4</th>\n",
       "      <td>Start</td>\n",
       "      <td>2018-08-01 00:00:30.2910</td>\n",
       "      <td>3662.0</td>\n",
       "      <td>31 Ave &amp; Steinway St</td>\n",
       "      <td>40.761294</td>\n",
       "      <td>-73.916917</td>\n",
       "    </tr>\n",
       "  </tbody>\n",
       "</table>\n",
       "</div>"
      ],
      "text/plain": [
       "  terminal type                      time  station id  \\\n",
       "0         Start  2018-08-01 00:00:07.3210      3162.0   \n",
       "1         Start  2018-08-01 00:00:19.7480      3260.0   \n",
       "2         Start  2018-08-01 00:00:21.1750       403.0   \n",
       "3         Start  2018-08-01 00:00:26.4700      3637.0   \n",
       "4         Start  2018-08-01 00:00:30.2910      3662.0   \n",
       "\n",
       "              station name  station latitude  station longitude  \n",
       "0       W 78 St & Broadway         40.783400         -73.980931  \n",
       "1  Mercer St & Bleecker St         40.727064         -73.996621  \n",
       "2           E 2 St & 2 Ave         40.725029         -73.990697  \n",
       "3  Fulton St & Waverly Ave         40.683239         -73.965996  \n",
       "4     31 Ave & Steinway St         40.761294         -73.916917  "
      ]
     },
     "execution_count": 53,
     "metadata": {},
     "output_type": "execute_result"
    }
   ],
   "source": [
    "merged.head()"
   ]
  },
  {
   "cell_type": "code",
   "execution_count": 54,
   "metadata": {},
   "outputs": [
    {
     "data": {
      "text/html": [
       "<div>\n",
       "<style scoped>\n",
       "    .dataframe tbody tr th:only-of-type {\n",
       "        vertical-align: middle;\n",
       "    }\n",
       "\n",
       "    .dataframe tbody tr th {\n",
       "        vertical-align: top;\n",
       "    }\n",
       "\n",
       "    .dataframe thead th {\n",
       "        text-align: right;\n",
       "    }\n",
       "</style>\n",
       "<table border=\"1\" class=\"dataframe\">\n",
       "  <thead>\n",
       "    <tr style=\"text-align: right;\">\n",
       "      <th></th>\n",
       "      <th>terminal type</th>\n",
       "      <th>time</th>\n",
       "      <th>station id</th>\n",
       "      <th>station name</th>\n",
       "      <th>station latitude</th>\n",
       "      <th>station longitude</th>\n",
       "    </tr>\n",
       "  </thead>\n",
       "  <tbody>\n",
       "    <tr>\n",
       "      <th>0</th>\n",
       "      <td>End</td>\n",
       "      <td>2018-08-01 00:11:28.9920</td>\n",
       "      <td>3383.0</td>\n",
       "      <td>Cathedral Pkwy &amp; Broadway</td>\n",
       "      <td>40.804213</td>\n",
       "      <td>-73.966991</td>\n",
       "    </tr>\n",
       "    <tr>\n",
       "      <th>1</th>\n",
       "      <td>End</td>\n",
       "      <td>2018-08-01 00:10:45.0290</td>\n",
       "      <td>2012.0</td>\n",
       "      <td>E 27 St &amp; 1 Ave</td>\n",
       "      <td>40.739445</td>\n",
       "      <td>-73.976806</td>\n",
       "    </tr>\n",
       "    <tr>\n",
       "      <th>2</th>\n",
       "      <td>End</td>\n",
       "      <td>2018-08-01 00:22:20.6370</td>\n",
       "      <td>285.0</td>\n",
       "      <td>Broadway &amp; E 14 St</td>\n",
       "      <td>40.734546</td>\n",
       "      <td>-73.990741</td>\n",
       "    </tr>\n",
       "    <tr>\n",
       "      <th>3</th>\n",
       "      <td>End</td>\n",
       "      <td>2018-08-01 00:04:06.8190</td>\n",
       "      <td>399.0</td>\n",
       "      <td>Lafayette Ave &amp; St James Pl</td>\n",
       "      <td>40.688515</td>\n",
       "      <td>-73.964763</td>\n",
       "    </tr>\n",
       "    <tr>\n",
       "      <th>4</th>\n",
       "      <td>End</td>\n",
       "      <td>2018-08-01 00:07:09.2810</td>\n",
       "      <td>3517.0</td>\n",
       "      <td>31 St &amp; Hoyt Ave N</td>\n",
       "      <td>40.771153</td>\n",
       "      <td>-73.917007</td>\n",
       "    </tr>\n",
       "  </tbody>\n",
       "</table>\n",
       "</div>"
      ],
      "text/plain": [
       "  terminal type                      time  station id  \\\n",
       "0           End  2018-08-01 00:11:28.9920      3383.0   \n",
       "1           End  2018-08-01 00:10:45.0290      2012.0   \n",
       "2           End  2018-08-01 00:22:20.6370       285.0   \n",
       "3           End  2018-08-01 00:04:06.8190       399.0   \n",
       "4           End  2018-08-01 00:07:09.2810      3517.0   \n",
       "\n",
       "                  station name  station latitude  station longitude  \n",
       "0    Cathedral Pkwy & Broadway         40.804213         -73.966991  \n",
       "1              E 27 St & 1 Ave         40.739445         -73.976806  \n",
       "2           Broadway & E 14 St         40.734546         -73.990741  \n",
       "3  Lafayette Ave & St James Pl         40.688515         -73.964763  \n",
       "4           31 St & Hoyt Ave N         40.771153         -73.917007  "
      ]
     },
     "execution_count": 54,
     "metadata": {},
     "output_type": "execute_result"
    }
   ],
   "source": [
    "merged2.head()"
   ]
  },
  {
   "cell_type": "code",
   "execution_count": 55,
   "metadata": {},
   "outputs": [],
   "source": [
    "terminals = pd.concat([merged, merged2], axis=0)"
   ]
  },
  {
   "cell_type": "code",
   "execution_count": 56,
   "metadata": {},
   "outputs": [
    {
     "data": {
      "text/plain": [
       "(4043218, 6)"
      ]
     },
     "execution_count": 56,
     "metadata": {},
     "output_type": "execute_result"
    }
   ],
   "source": [
    "terminals.shape"
   ]
  },
  {
   "cell_type": "code",
   "execution_count": 28,
   "metadata": {},
   "outputs": [
    {
     "data": {
      "text/html": [
       "<div>\n",
       "<style scoped>\n",
       "    .dataframe tbody tr th:only-of-type {\n",
       "        vertical-align: middle;\n",
       "    }\n",
       "\n",
       "    .dataframe tbody tr th {\n",
       "        vertical-align: top;\n",
       "    }\n",
       "\n",
       "    .dataframe thead th {\n",
       "        text-align: right;\n",
       "    }\n",
       "</style>\n",
       "<table border=\"1\" class=\"dataframe\">\n",
       "  <thead>\n",
       "    <tr style=\"text-align: right;\">\n",
       "      <th></th>\n",
       "      <th>tripduration</th>\n",
       "      <th>starttime</th>\n",
       "      <th>stoptime</th>\n",
       "      <th>start station id</th>\n",
       "      <th>start station name</th>\n",
       "      <th>start station latitude</th>\n",
       "      <th>start station longitude</th>\n",
       "      <th>end station id</th>\n",
       "      <th>end station name</th>\n",
       "      <th>end station latitude</th>\n",
       "      <th>end station longitude</th>\n",
       "      <th>bikeid</th>\n",
       "      <th>usertype</th>\n",
       "      <th>birth year</th>\n",
       "      <th>gender</th>\n",
       "    </tr>\n",
       "  </thead>\n",
       "  <tbody>\n",
       "    <tr>\n",
       "      <th>0</th>\n",
       "      <td>681</td>\n",
       "      <td>2018-08-01 00:00:07.3210</td>\n",
       "      <td>2018-08-01 00:11:28.9920</td>\n",
       "      <td>3162.0</td>\n",
       "      <td>W 78 St &amp; Broadway</td>\n",
       "      <td>40.783400</td>\n",
       "      <td>-73.980931</td>\n",
       "      <td>3383.0</td>\n",
       "      <td>Cathedral Pkwy &amp; Broadway</td>\n",
       "      <td>40.804213</td>\n",
       "      <td>-73.966991</td>\n",
       "      <td>27770</td>\n",
       "      <td>Subscriber</td>\n",
       "      <td>1986</td>\n",
       "      <td>1</td>\n",
       "    </tr>\n",
       "    <tr>\n",
       "      <th>1</th>\n",
       "      <td>625</td>\n",
       "      <td>2018-08-01 00:00:19.7480</td>\n",
       "      <td>2018-08-01 00:10:45.0290</td>\n",
       "      <td>3260.0</td>\n",
       "      <td>Mercer St &amp; Bleecker St</td>\n",
       "      <td>40.727064</td>\n",
       "      <td>-73.996621</td>\n",
       "      <td>2012.0</td>\n",
       "      <td>E 27 St &amp; 1 Ave</td>\n",
       "      <td>40.739445</td>\n",
       "      <td>-73.976806</td>\n",
       "      <td>25938</td>\n",
       "      <td>Subscriber</td>\n",
       "      <td>1969</td>\n",
       "      <td>1</td>\n",
       "    </tr>\n",
       "    <tr>\n",
       "      <th>2</th>\n",
       "      <td>1319</td>\n",
       "      <td>2018-08-01 00:00:21.1750</td>\n",
       "      <td>2018-08-01 00:22:20.6370</td>\n",
       "      <td>403.0</td>\n",
       "      <td>E 2 St &amp; 2 Ave</td>\n",
       "      <td>40.725029</td>\n",
       "      <td>-73.990697</td>\n",
       "      <td>285.0</td>\n",
       "      <td>Broadway &amp; E 14 St</td>\n",
       "      <td>40.734546</td>\n",
       "      <td>-73.990741</td>\n",
       "      <td>28679</td>\n",
       "      <td>Subscriber</td>\n",
       "      <td>1970</td>\n",
       "      <td>1</td>\n",
       "    </tr>\n",
       "    <tr>\n",
       "      <th>3</th>\n",
       "      <td>220</td>\n",
       "      <td>2018-08-01 00:00:26.4700</td>\n",
       "      <td>2018-08-01 00:04:06.8190</td>\n",
       "      <td>3637.0</td>\n",
       "      <td>Fulton St &amp; Waverly Ave</td>\n",
       "      <td>40.683239</td>\n",
       "      <td>-73.965996</td>\n",
       "      <td>399.0</td>\n",
       "      <td>Lafayette Ave &amp; St James Pl</td>\n",
       "      <td>40.688515</td>\n",
       "      <td>-73.964763</td>\n",
       "      <td>28075</td>\n",
       "      <td>Subscriber</td>\n",
       "      <td>1982</td>\n",
       "      <td>1</td>\n",
       "    </tr>\n",
       "    <tr>\n",
       "      <th>4</th>\n",
       "      <td>398</td>\n",
       "      <td>2018-08-01 00:00:30.2910</td>\n",
       "      <td>2018-08-01 00:07:09.2810</td>\n",
       "      <td>3662.0</td>\n",
       "      <td>31 Ave &amp; Steinway St</td>\n",
       "      <td>40.761294</td>\n",
       "      <td>-73.916917</td>\n",
       "      <td>3517.0</td>\n",
       "      <td>31 St &amp; Hoyt Ave N</td>\n",
       "      <td>40.771153</td>\n",
       "      <td>-73.917007</td>\n",
       "      <td>25002</td>\n",
       "      <td>Subscriber</td>\n",
       "      <td>1987</td>\n",
       "      <td>1</td>\n",
       "    </tr>\n",
       "  </tbody>\n",
       "</table>\n",
       "</div>"
      ],
      "text/plain": [
       "   tripduration                 starttime                  stoptime  \\\n",
       "0           681  2018-08-01 00:00:07.3210  2018-08-01 00:11:28.9920   \n",
       "1           625  2018-08-01 00:00:19.7480  2018-08-01 00:10:45.0290   \n",
       "2          1319  2018-08-01 00:00:21.1750  2018-08-01 00:22:20.6370   \n",
       "3           220  2018-08-01 00:00:26.4700  2018-08-01 00:04:06.8190   \n",
       "4           398  2018-08-01 00:00:30.2910  2018-08-01 00:07:09.2810   \n",
       "\n",
       "   start station id       start station name  start station latitude  \\\n",
       "0            3162.0       W 78 St & Broadway               40.783400   \n",
       "1            3260.0  Mercer St & Bleecker St               40.727064   \n",
       "2             403.0           E 2 St & 2 Ave               40.725029   \n",
       "3            3637.0  Fulton St & Waverly Ave               40.683239   \n",
       "4            3662.0     31 Ave & Steinway St               40.761294   \n",
       "\n",
       "   start station longitude  end station id             end station name  \\\n",
       "0               -73.980931          3383.0    Cathedral Pkwy & Broadway   \n",
       "1               -73.996621          2012.0              E 27 St & 1 Ave   \n",
       "2               -73.990697           285.0           Broadway & E 14 St   \n",
       "3               -73.965996           399.0  Lafayette Ave & St James Pl   \n",
       "4               -73.916917          3517.0           31 St & Hoyt Ave N   \n",
       "\n",
       "   end station latitude  end station longitude  bikeid    usertype  \\\n",
       "0             40.804213             -73.966991   27770  Subscriber   \n",
       "1             40.739445             -73.976806   25938  Subscriber   \n",
       "2             40.734546             -73.990741   28679  Subscriber   \n",
       "3             40.688515             -73.964763   28075  Subscriber   \n",
       "4             40.771153             -73.917007   25002  Subscriber   \n",
       "\n",
       "   birth year  gender  \n",
       "0        1986       1  \n",
       "1        1969       1  \n",
       "2        1970       1  \n",
       "3        1982       1  \n",
       "4        1987       1  "
      ]
     },
     "execution_count": 28,
     "metadata": {},
     "output_type": "execute_result"
    }
   ],
   "source": [
    "merged.head()"
   ]
  },
  {
   "cell_type": "code",
   "execution_count": 57,
   "metadata": {},
   "outputs": [],
   "source": [
    "terminals.to_csv('201808-terminals.csv', header=True, index=False)"
   ]
  },
  {
   "cell_type": "code",
   "execution_count": 11,
   "metadata": {},
   "outputs": [],
   "source": []
  },
  {
   "cell_type": "code",
   "execution_count": 25,
   "metadata": {},
   "outputs": [],
   "source": []
  },
  {
   "cell_type": "code",
   "execution_count": 20,
   "metadata": {},
   "outputs": [],
   "source": [
    "merged.columns = [x.replace(' ','') for x in merged.columns]"
   ]
  },
  {
   "cell_type": "code",
   "execution_count": null,
   "metadata": {},
   "outputs": [],
   "source": []
  }
 ],
 "metadata": {
  "kernelspec": {
   "display_name": "Python 3",
   "language": "python",
   "name": "python3"
  },
  "language_info": {
   "codemirror_mode": {
    "name": "ipython",
    "version": 3
   },
   "file_extension": ".py",
   "mimetype": "text/x-python",
   "name": "python",
   "nbconvert_exporter": "python",
   "pygments_lexer": "ipython3",
   "version": "3.7.0"
  }
 },
 "nbformat": 4,
 "nbformat_minor": 2
}
